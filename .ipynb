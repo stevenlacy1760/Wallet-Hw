{
 "cells": [
  {
   "cell_type": "code",
   "execution_count": 26,
   "metadata": {},
   "outputs": [
    {
     "name": "stdout",
     "output_type": "stream",
     "text": [
      "garden tell timber fan auction outside breeze glory hold nuclear army delay\n"
     ]
    }
   ],
   "source": [
    "# %%\n",
    "# Import dependencies\n",
    "import subprocess\n",
    "import json\n",
    "from dotenv import load_dotenv\n",
    "import os\n",
    "from eth_account import Account\n",
    "\n",
    "# %%\n",
    "# Load and set environment variables\n",
    "load_dotenv()\n",
    "mnemonic=os.getenv(\"mnemonic\")\n",
    "print(mnemonic)\n",
    "\n",
    "# %%\n",
    "# Import constants.py and necessary functions from bit and web3\n",
    "# YOUR CODE HERE\n",
    "from web3 import Web3\n",
    "from web3.middleware import geth_poa_middleware\n",
    "from bit import Key, PrivateKey, PrivateKeyTestnet\n",
    "from bit.network import NetworkAPI\n",
    "from bit import wif_to_key\n",
    "from constants import *\n",
    "w3 = Web3(Web3.HTTPProvider(\"http://127.0.0.1:8545\"))\n",
    "w3.middleware_onion.inject(geth_poa_middleware, layer=0)\n",
    "\n",
    "\n",
    "w3.isConnected()\n",
    "\n",
    "\n",
    "# %%\n",
    "# Create a function called `derive_wallets`\n",
    "def derive_wallets(mnemonic, coin, numderive):\n",
    "    command = f'php ./derive -g --mnemonic=\"{mnemonic}\" --numderive={numderive} --coin={coin} --format=jsonpretty'\n",
    "\n",
    "# YOUR CODE HERE\n",
    "    p = subprocess.Popen(command, stdout=subprocess.PIPE, shell=True)\n",
    "    output, err = p.communicate()\n",
    "    p_status = p.wait()\n",
    "    return json.loads(output)\n",
    "\n",
    "\n",
    "# %%\n",
    "# Create a dictionary object called coins to store the output from `derive_wallets`.\n",
    "coins = {'eth':derive_wallets(mnemonic, coin=ETH, numderive=3), 'btc-test': derive_wallets(mnemonic, coin=BTCTEST, numderive=3)}\n",
    "\n",
    "\n",
    "# %%\n",
    "# child account selection with dictionary \n",
    "eth_key = coins['eth'][0]['privkey']\n",
    "btc_key = coins['btc-test'][0]['privkey']\n",
    "\n",
    "# %%\n",
    "# Create a function called `priv_key_to_account` that converts privkey strings to account objects.\n",
    "def priv_key_to_account(coin, priv_key):\n",
    "    global account\n",
    "    if coin == ETH:\n",
    "        return Account.privateKeyToAccount(priv_key)\n",
    "    elif coin == BTCTEST:\n",
    "        return PrivateKeyTestnet(priv_key)\n",
    "    \n",
    "\n",
    "\n",
    "# %%\n",
    "eth_acc = btc_acc = priv_key_to_account(ETH, eth_key)\n",
    "\n",
    "# %%\n",
    "btc_acc = priv_key_to_account(BTCTEST, btc_key)\n",
    "\n",
    "# %%\n",
    "# Create a function called `create_tx` that creates an unsigned transaction appropriate metadata.\n",
    "def create_tx(coin, account, recipient, amount):\n",
    "    global tx_data\n",
    "    if coin == ETH:\n",
    "        gasEstimate = w3.eth.estimateGas(\n",
    "            {\"from\": account.address, \"to\": recipient, \"value\":amount}\n",
    "        )\n",
    "        tx_data={\n",
    "            \"from\": account.address,\n",
    "            \"to\": recipient,\n",
    "            \"value\": amount,\n",
    "            \"gasPrice\": w3.eth.gasPrice,\n",
    "            \"gas\": gasEstimate,\n",
    "            \"nonce\": w3.eth.getTransaction(account.address),\n",
    "        }\n",
    "        return tx_data\n",
    "    if coin == BTCTEST:\n",
    "        return PrivateKeyTestnet.prepare_transaction(account.address, [(recipient, amount, BTC)])\n",
    "        \n",
    "\n",
    "# %%\n",
    "# Create a function called `send_tx` that calls `create_tx`, signs and sends the transaction.\n",
    "def send_tx(coin, account, recipient, amount):\n",
    "    if coin == ETH:\n",
    "        tx = create_tx(coin, account, recipient, amount)\n",
    "        signed_tx = account.sign_transaction(tx)\n",
    "        result = w3.eth.sendRawTransaction(signed_tx.rawTransaction)\n",
    "        print(result.hex())\n",
    "        return result.hex()\n",
    "    if coin == BTCTEST:\n",
    "        raw_tx = create_tx(coin, account, recipient, amount)\n",
    "        signed = account.sign_transaction(raw_tx)\n",
    "        return NetworkAPI.broadcast_tx_testnet(signed)\n",
    "\n"
   ]
  },
  {
   "cell_type": "code",
   "execution_count": 3,
   "metadata": {},
   "outputs": [
    {
     "data": {
      "text/plain": [
       "[{'path': \"m/44'/60'/0'/0/0\",\n",
       "  'address': '0x907b31E07E8D9c5504Cc1bf28C27Ec28bF8BE111',\n",
       "  'xprv': 'xprvA3U1QLWpWgFJB9DcmXfC1hQtVfaR1ssQ1K6pFSNtdMUWHgbsBuBYBcqqRTFbzNnE4m26gxQ7NXJmhngDKPMJjbQ9mjGYgJ2tNrRJoiQVaoy',\n",
       "  'xpub': 'xpub6GTMor3iM3obPdJ5sZCCNqMd3hQuRLbFNY2R3pnWBh1VAUw1jSVnjRAKGgf3irEVyzvJXn5g29gyiCwACjF8nYuTAXea5NiLbK1AobkXoRW',\n",
       "  'privkey': '0xeb9cdd720fb80d2ab2963f5598bd756a3ea052071ef0f0b7726a0c861112790f',\n",
       "  'pubkey': '021571195a3f19ccd1263ac2b9d489154d629e3b39027689294317670690f9ef87',\n",
       "  'pubkeyhash': 'aab356d20238f2b99002dd643cf6e351bd58b4ba',\n",
       "  'index': 0},\n",
       " {'path': \"m/44'/60'/0'/0/1\",\n",
       "  'address': '0x46d7598F561d976F8a122aEcbc98c346C66Fd46c',\n",
       "  'xprv': 'xprvA3U1QLWpWgFJCMbAEhDotSX8s3HfKXqtu5MeNvsyCWEoUnQjJeSTAJEckZyvEowNRp1mB6AzChyLo4dcPJRmpKtGfcqcNsMz4HR4W4yMbWm',\n",
       "  'xpub': 'xpub6GTMor3iM3obQqfdLikpFaTsR589izZkGJHFBKHakqmnMajsrBkhi6Z6bp4K7V1uEyyA92nMZy42qMQKUyuqgBmy4Z5ZUDXj6GNiLMdZhTc',\n",
       "  'privkey': '0xf7c4e71c221f93cc424d6f0665d0ef8805ca27218981e4f6b29b55168888998b',\n",
       "  'pubkey': '027a0a618769be20f14beaa429fc2408f2e0c1ccb699ca47981efe12bb623ca3dd',\n",
       "  'pubkeyhash': '3be7fb02af023a613047d7e26c5b80676da50e3a',\n",
       "  'index': 1},\n",
       " {'path': \"m/44'/60'/0'/0/2\",\n",
       "  'address': '0x7CcB8D1Af0E332216ACCB175D2764249002711Dc',\n",
       "  'xprv': 'xprvA3U1QLWpWgFJEeDF9v8gGYsn95wvjt1YkbmCjvvXNnLDmuPLEhL6NKdy3FA9ZMDSoakEFt1H7k9Zp34yeq7R4MZaFnw77fTyNQq4mtGQdN5',\n",
       "  'xpub': 'xpub6GTMor3iM3obT8HiFwfgdgpWh7nR9LjQ7pgoYKL8w7sCehiUnEeLv7xStY8SDRWh1SY4nSPXSXJT6oLeKMzu8PAoZ7jh7i2D8yhxvmkStcn',\n",
       "  'privkey': '0x6d2528a84537b1f30e2722f3fad7c64151194b738d030feedc0b00dd235d6ccd',\n",
       "  'pubkey': '036ca340b92255bb021b217ecdea5a47f495ec98c3f5dcb4e38d177b565a1576bf',\n",
       "  'pubkeyhash': '07cd7006e4d50e968e6dab857a8b7020a0f3da5b',\n",
       "  'index': 2}]"
      ]
     },
     "execution_count": 3,
     "metadata": {},
     "output_type": "execute_result"
    }
   ],
   "source": [
    "derive_wallets(mnemonic, ETH,3)"
   ]
  },
  {
   "cell_type": "code",
   "execution_count": 4,
   "metadata": {},
   "outputs": [
    {
     "name": "stdout",
     "output_type": "stream",
     "text": [
      "{\n",
      "    \"btc-test\": [\n",
      "        {\n",
      "            \"address\": \"n4QQa6X49seH4oK6Y6ANk66aWsFYGjbF8Y\",\n",
      "            \"index\": 0,\n",
      "            \"path\": \"m/44'/1'/0'/0/0\",\n",
      "            \"privkey\": \"cSN84TRMpK2aGr3iiUq4iSgitAcB989RyMppzvmPGjWVYHuMf1bp\",\n",
      "            \"pubkey\": \"03eef32169662c6839fb2ec6813474b360984e7589a6f81419e5b6c225a1403fef\",\n",
      "            \"pubkeyhash\": \"fb0dea774eda06d337113eda0dcce3aa267c39a0\",\n",
      "            \"xprv\": \"tprv8kVcZDTn3PwgviZRmEnrC1L69zAmvrD4cGLeb4Fu21sJ5nvELyUC3RP262JY5GEX7wrieyVBhQREZXKfe8omZ476NP3QjQetzksGUkWyQfG\",\n",
      "            \"xpub\": \"tpubDHBehdW2BmdMpBbDetTSbQzCj1gi6BPyBZwRsaJCSHfgvHAzyNHnDuztGBvZNuMSi1nzkSahzzZaCxvUHi3fukMMnYJeWswgNqLtShx2CZp\"\n",
      "        },\n",
      "        {\n",
      "            \"address\": \"mtnxNt9cnFLxwEVFykWKpraHgsutBMjYJc\",\n",
      "            \"index\": 1,\n",
      "            \"path\": \"m/44'/1'/0'/0/1\",\n",
      "            \"privkey\": \"cTkXZsyCsoeyJbymN5CCi5Ty4Z2MRLjuKXsQ4Y8o7K5ogUs2xCKu\",\n",
      "            \"pubkey\": \"03d728bcb8d9c68dd8305ba77006a0528673139894bb0cea3beca8b44889f1b93b\",\n",
      "            \"pubkeyhash\": \"91a05c2dcb0c4f953e98a4da983194ade00a90ba\",\n",
      "            \"xprv\": \"tprv8kVcZDTn3Pwgz5cR7PSdwGmPtWie7HAagZHwp6QuoBoaKvebGgeLcpyzDTZPPvT3vQb2sXCs8yPmtXLEbvvio9KXrecPia1gV3d4jsRsTEb\",\n",
      "            \"xpub\": \"tpubDHBehdW2BmdMsYeD137ELgRWTYEaGcMVFrtj6cTDDTbyAQuMu5TvoKbrPcgiRdB1f2UuvP8c9ymCJ8NUw2Rht74SFPbyNPmKHFvmLDSMFjK\"\n",
      "        },\n",
      "        {\n",
      "            \"address\": \"msko8J1TnFjcCGvY4EW9QsZswvnSftXDab\",\n",
      "            \"index\": 2,\n",
      "            \"path\": \"m/44'/1'/0'/0/2\",\n",
      "            \"privkey\": \"cW4WYboDBYH8MN8toZEiaoMnPFWfoNYDAczdGeBBKWcWK2cRxmSB\",\n",
      "            \"pubkey\": \"028fdfa148d227a61b00fcd49ce4780a321be9fbebdb0f725c0bfdbdafcebfb788\",\n",
      "            \"pubkeyhash\": \"863fadf8ee447d6a17504343f62c9910ec95d85b\",\n",
      "            \"xprv\": \"tprv8kVcZDTn3Pwh1wdEhM6T4R7TGqE6mRwfjBx5hAXXmbCADzYNA4Nuw3LJq2DAJRqLzrPXvUNNXCEo1jHn6TdVf5Ze58u1jFLVL66gxbedtK3\",\n",
      "            \"xpub\": \"tpubDHBehdW2BmdMuQf2azm3TpmZqrk2vm8aJVYrygZqBrzZ4Uo8nTCW7XxB18KzeX9byLfXxZkKYnpgaAvdh7zHqUDCyYiKPdRhVxM8WoXixpi\"\n",
      "        }\n",
      "    ],\n",
      "    \"eth\": [\n",
      "        {\n",
      "            \"address\": \"0x907b31E07E8D9c5504Cc1bf28C27Ec28bF8BE111\",\n",
      "            \"index\": 0,\n",
      "            \"path\": \"m/44'/60'/0'/0/0\",\n",
      "            \"privkey\": \"0xeb9cdd720fb80d2ab2963f5598bd756a3ea052071ef0f0b7726a0c861112790f\",\n",
      "            \"pubkey\": \"021571195a3f19ccd1263ac2b9d489154d629e3b39027689294317670690f9ef87\",\n",
      "            \"pubkeyhash\": \"aab356d20238f2b99002dd643cf6e351bd58b4ba\",\n",
      "            \"xprv\": \"xprvA3U1QLWpWgFJB9DcmXfC1hQtVfaR1ssQ1K6pFSNtdMUWHgbsBuBYBcqqRTFbzNnE4m26gxQ7NXJmhngDKPMJjbQ9mjGYgJ2tNrRJoiQVaoy\",\n",
      "            \"xpub\": \"xpub6GTMor3iM3obPdJ5sZCCNqMd3hQuRLbFNY2R3pnWBh1VAUw1jSVnjRAKGgf3irEVyzvJXn5g29gyiCwACjF8nYuTAXea5NiLbK1AobkXoRW\"\n",
      "        },\n",
      "        {\n",
      "            \"address\": \"0x46d7598F561d976F8a122aEcbc98c346C66Fd46c\",\n",
      "            \"index\": 1,\n",
      "            \"path\": \"m/44'/60'/0'/0/1\",\n",
      "            \"privkey\": \"0xf7c4e71c221f93cc424d6f0665d0ef8805ca27218981e4f6b29b55168888998b\",\n",
      "            \"pubkey\": \"027a0a618769be20f14beaa429fc2408f2e0c1ccb699ca47981efe12bb623ca3dd\",\n",
      "            \"pubkeyhash\": \"3be7fb02af023a613047d7e26c5b80676da50e3a\",\n",
      "            \"xprv\": \"xprvA3U1QLWpWgFJCMbAEhDotSX8s3HfKXqtu5MeNvsyCWEoUnQjJeSTAJEckZyvEowNRp1mB6AzChyLo4dcPJRmpKtGfcqcNsMz4HR4W4yMbWm\",\n",
      "            \"xpub\": \"xpub6GTMor3iM3obQqfdLikpFaTsR589izZkGJHFBKHakqmnMajsrBkhi6Z6bp4K7V1uEyyA92nMZy42qMQKUyuqgBmy4Z5ZUDXj6GNiLMdZhTc\"\n",
      "        },\n",
      "        {\n",
      "            \"address\": \"0x7CcB8D1Af0E332216ACCB175D2764249002711Dc\",\n",
      "            \"index\": 2,\n",
      "            \"path\": \"m/44'/60'/0'/0/2\",\n",
      "            \"privkey\": \"0x6d2528a84537b1f30e2722f3fad7c64151194b738d030feedc0b00dd235d6ccd\",\n",
      "            \"pubkey\": \"036ca340b92255bb021b217ecdea5a47f495ec98c3f5dcb4e38d177b565a1576bf\",\n",
      "            \"pubkeyhash\": \"07cd7006e4d50e968e6dab857a8b7020a0f3da5b\",\n",
      "            \"xprv\": \"xprvA3U1QLWpWgFJEeDF9v8gGYsn95wvjt1YkbmCjvvXNnLDmuPLEhL6NKdy3FA9ZMDSoakEFt1H7k9Zp34yeq7R4MZaFnw77fTyNQq4mtGQdN5\",\n",
      "            \"xpub\": \"xpub6GTMor3iM3obT8HiFwfgdgpWh7nR9LjQ7pgoYKL8w7sCehiUnEeLv7xStY8SDRWh1SY4nSPXSXJT6oLeKMzu8PAoZ7jh7i2D8yhxvmkStcn\"\n",
      "        }\n",
      "    ]\n",
      "}\n"
     ]
    }
   ],
   "source": [
    "print(json.dumps(coins, indent=4, sort_keys=True))"
   ]
  },
  {
   "cell_type": "code",
   "execution_count": 5,
   "metadata": {},
   "outputs": [
    {
     "data": {
      "text/plain": [
       "0"
      ]
     },
     "execution_count": 5,
     "metadata": {},
     "output_type": "execute_result"
    }
   ],
   "source": [
    "w3 = Web3(Web3.HTTPProvider(\"http://127.0.0.1:8545/0xeb9cdd720fb80d2ab2963f5598bd756a3ea052071ef0f0b7726a0c861112790f\"))\n",
    "w3.eth.getBalance(\"0x907b31E07E8D9c5504Cc1bf28C27Ec28bF8BE111\")"
   ]
  },
  {
   "cell_type": "code",
   "execution_count": 6,
   "metadata": {},
   "outputs": [
    {
     "name": "stdout",
     "output_type": "stream",
     "text": [
      "{\n",
      "    \"btc-test\": [\n",
      "        {\n",
      "            \"address\": \"n4QQa6X49seH4oK6Y6ANk66aWsFYGjbF8Y\",\n",
      "            \"index\": 0,\n",
      "            \"path\": \"m/44'/1'/0'/0/0\",\n",
      "            \"privkey\": \"cSN84TRMpK2aGr3iiUq4iSgitAcB989RyMppzvmPGjWVYHuMf1bp\",\n",
      "            \"pubkey\": \"03eef32169662c6839fb2ec6813474b360984e7589a6f81419e5b6c225a1403fef\",\n",
      "            \"pubkeyhash\": \"fb0dea774eda06d337113eda0dcce3aa267c39a0\",\n",
      "            \"xprv\": \"tprv8kVcZDTn3PwgviZRmEnrC1L69zAmvrD4cGLeb4Fu21sJ5nvELyUC3RP262JY5GEX7wrieyVBhQREZXKfe8omZ476NP3QjQetzksGUkWyQfG\",\n",
      "            \"xpub\": \"tpubDHBehdW2BmdMpBbDetTSbQzCj1gi6BPyBZwRsaJCSHfgvHAzyNHnDuztGBvZNuMSi1nzkSahzzZaCxvUHi3fukMMnYJeWswgNqLtShx2CZp\"\n",
      "        },\n",
      "        {\n",
      "            \"address\": \"mtnxNt9cnFLxwEVFykWKpraHgsutBMjYJc\",\n",
      "            \"index\": 1,\n",
      "            \"path\": \"m/44'/1'/0'/0/1\",\n",
      "            \"privkey\": \"cTkXZsyCsoeyJbymN5CCi5Ty4Z2MRLjuKXsQ4Y8o7K5ogUs2xCKu\",\n",
      "            \"pubkey\": \"03d728bcb8d9c68dd8305ba77006a0528673139894bb0cea3beca8b44889f1b93b\",\n",
      "            \"pubkeyhash\": \"91a05c2dcb0c4f953e98a4da983194ade00a90ba\",\n",
      "            \"xprv\": \"tprv8kVcZDTn3Pwgz5cR7PSdwGmPtWie7HAagZHwp6QuoBoaKvebGgeLcpyzDTZPPvT3vQb2sXCs8yPmtXLEbvvio9KXrecPia1gV3d4jsRsTEb\",\n",
      "            \"xpub\": \"tpubDHBehdW2BmdMsYeD137ELgRWTYEaGcMVFrtj6cTDDTbyAQuMu5TvoKbrPcgiRdB1f2UuvP8c9ymCJ8NUw2Rht74SFPbyNPmKHFvmLDSMFjK\"\n",
      "        },\n",
      "        {\n",
      "            \"address\": \"msko8J1TnFjcCGvY4EW9QsZswvnSftXDab\",\n",
      "            \"index\": 2,\n",
      "            \"path\": \"m/44'/1'/0'/0/2\",\n",
      "            \"privkey\": \"cW4WYboDBYH8MN8toZEiaoMnPFWfoNYDAczdGeBBKWcWK2cRxmSB\",\n",
      "            \"pubkey\": \"028fdfa148d227a61b00fcd49ce4780a321be9fbebdb0f725c0bfdbdafcebfb788\",\n",
      "            \"pubkeyhash\": \"863fadf8ee447d6a17504343f62c9910ec95d85b\",\n",
      "            \"xprv\": \"tprv8kVcZDTn3Pwh1wdEhM6T4R7TGqE6mRwfjBx5hAXXmbCADzYNA4Nuw3LJq2DAJRqLzrPXvUNNXCEo1jHn6TdVf5Ze58u1jFLVL66gxbedtK3\",\n",
      "            \"xpub\": \"tpubDHBehdW2BmdMuQf2azm3TpmZqrk2vm8aJVYrygZqBrzZ4Uo8nTCW7XxB18KzeX9byLfXxZkKYnpgaAvdh7zHqUDCyYiKPdRhVxM8WoXixpi\"\n",
      "        }\n",
      "    ],\n",
      "    \"eth\": [\n",
      "        {\n",
      "            \"address\": \"0x907b31E07E8D9c5504Cc1bf28C27Ec28bF8BE111\",\n",
      "            \"index\": 0,\n",
      "            \"path\": \"m/44'/60'/0'/0/0\",\n",
      "            \"privkey\": \"0xeb9cdd720fb80d2ab2963f5598bd756a3ea052071ef0f0b7726a0c861112790f\",\n",
      "            \"pubkey\": \"021571195a3f19ccd1263ac2b9d489154d629e3b39027689294317670690f9ef87\",\n",
      "            \"pubkeyhash\": \"aab356d20238f2b99002dd643cf6e351bd58b4ba\",\n",
      "            \"xprv\": \"xprvA3U1QLWpWgFJB9DcmXfC1hQtVfaR1ssQ1K6pFSNtdMUWHgbsBuBYBcqqRTFbzNnE4m26gxQ7NXJmhngDKPMJjbQ9mjGYgJ2tNrRJoiQVaoy\",\n",
      "            \"xpub\": \"xpub6GTMor3iM3obPdJ5sZCCNqMd3hQuRLbFNY2R3pnWBh1VAUw1jSVnjRAKGgf3irEVyzvJXn5g29gyiCwACjF8nYuTAXea5NiLbK1AobkXoRW\"\n",
      "        },\n",
      "        {\n",
      "            \"address\": \"0x46d7598F561d976F8a122aEcbc98c346C66Fd46c\",\n",
      "            \"index\": 1,\n",
      "            \"path\": \"m/44'/60'/0'/0/1\",\n",
      "            \"privkey\": \"0xf7c4e71c221f93cc424d6f0665d0ef8805ca27218981e4f6b29b55168888998b\",\n",
      "            \"pubkey\": \"027a0a618769be20f14beaa429fc2408f2e0c1ccb699ca47981efe12bb623ca3dd\",\n",
      "            \"pubkeyhash\": \"3be7fb02af023a613047d7e26c5b80676da50e3a\",\n",
      "            \"xprv\": \"xprvA3U1QLWpWgFJCMbAEhDotSX8s3HfKXqtu5MeNvsyCWEoUnQjJeSTAJEckZyvEowNRp1mB6AzChyLo4dcPJRmpKtGfcqcNsMz4HR4W4yMbWm\",\n",
      "            \"xpub\": \"xpub6GTMor3iM3obQqfdLikpFaTsR589izZkGJHFBKHakqmnMajsrBkhi6Z6bp4K7V1uEyyA92nMZy42qMQKUyuqgBmy4Z5ZUDXj6GNiLMdZhTc\"\n",
      "        },\n",
      "        {\n",
      "            \"address\": \"0x7CcB8D1Af0E332216ACCB175D2764249002711Dc\",\n",
      "            \"index\": 2,\n",
      "            \"path\": \"m/44'/60'/0'/0/2\",\n",
      "            \"privkey\": \"0x6d2528a84537b1f30e2722f3fad7c64151194b738d030feedc0b00dd235d6ccd\",\n",
      "            \"pubkey\": \"036ca340b92255bb021b217ecdea5a47f495ec98c3f5dcb4e38d177b565a1576bf\",\n",
      "            \"pubkeyhash\": \"07cd7006e4d50e968e6dab857a8b7020a0f3da5b\",\n",
      "            \"xprv\": \"xprvA3U1QLWpWgFJEeDF9v8gGYsn95wvjt1YkbmCjvvXNnLDmuPLEhL6NKdy3FA9ZMDSoakEFt1H7k9Zp34yeq7R4MZaFnw77fTyNQq4mtGQdN5\",\n",
      "            \"xpub\": \"xpub6GTMor3iM3obT8HiFwfgdgpWh7nR9LjQ7pgoYKL8w7sCehiUnEeLv7xStY8SDRWh1SY4nSPXSXJT6oLeKMzu8PAoZ7jh7i2D8yhxvmkStcn\"\n",
      "        }\n",
      "    ]\n",
      "}\n"
     ]
    }
   ],
   "source": [
    "print(json.dumps(coins, indent=4, sort_keys=True))"
   ]
  },
  {
   "cell_type": "code",
   "execution_count": 7,
   "metadata": {},
   "outputs": [
    {
     "data": {
      "text/plain": [
       "<PrivateKeyTestnet: n4QQa6X49seH4oK6Y6ANk66aWsFYGjbF8Y>"
      ]
     },
     "execution_count": 7,
     "metadata": {},
     "output_type": "execute_result"
    }
   ],
   "source": [
    "priv_key_to_account(BTCTEST, btc_key)"
   ]
  },
  {
   "cell_type": "code",
   "execution_count": 9,
   "metadata": {},
   "outputs": [
    {
     "data": {
      "text/plain": [
       "'{\"unspents\":[{\"amount\":100000,\"confirmations\":0,\"script\":\"76a914fb0dea774eda06d337113eda0dcce3aa267c39a088ac\",\"txid\":\"8bf705557fcd093d395f5dafdaea613a4c28831ecd6c01ff3277477845078a6a\",\"txindex\":0,\"type\":\"p2pkh\",\"vsize\":148,\"segwit\":false,\"sequence\":4294967295}],\"outputs\":[[\"mkHS9ne12qx9pS9VojpwU5xtRd4T7X7ZUt\",10000],[\"n4QQa6X49seH4oK6Y6ANk66aWsFYGjbF8Y\",87740]]}'"
      ]
     },
     "execution_count": 9,
     "metadata": {},
     "output_type": "execute_result"
    }
   ],
   "source": [
    "create_tx(BTCTEST, btc_acc, \"mkHS9ne12qx9pS9VojpwU5xtRd4T7X7ZUt\", 0.0001)"
   ]
  },
  {
   "cell_type": "code",
   "execution_count": 13,
   "metadata": {},
   "outputs": [
    {
     "data": {
      "text/plain": [
       "'{\"unspents\":[{\"amount\":78644,\"confirmations\":0,\"script\":\"76a914fb0dea774eda06d337113eda0dcce3aa267c39a088ac\",\"txid\":\"63593a15642014e511736e2bdd683f367ba9d94bc5fefec9d087ed31d348bde4\",\"txindex\":1,\"type\":\"p2pkh\",\"vsize\":148,\"segwit\":false,\"sequence\":4294967295}],\"outputs\":[[\"mtnxNt9cnFLxwEVFykWKpraHgsutBMjYJc\",10000],[\"n4QQa6X49seH4oK6Y6ANk66aWsFYGjbF8Y\",66384]]}'"
      ]
     },
     "execution_count": 13,
     "metadata": {},
     "output_type": "execute_result"
    }
   ],
   "source": [
    "create_tx(BTCTEST, btc_acc, \"mtnxNt9cnFLxwEVFykWKpraHgsutBMjYJc\", 0.0001)"
   ]
  },
  {
   "cell_type": "code",
   "execution_count": 14,
   "metadata": {},
   "outputs": [],
   "source": [
    "send_tx(BTCTEST, btc_acc, \"mtnxNt9cnFLxwEVFykWKpraHgsutBMjYJc\", 0.0001 )"
   ]
  },
  {
   "cell_type": "code",
   "execution_count": 12,
   "metadata": {},
   "outputs": [],
   "source": [
    "send_tx(BTCTEST, btc_acc, \"mkHS9ne12qx9pS9VojpwU5xtRd4T7X7ZUt\", 0.0001 )"
   ]
  },
  {
   "cell_type": "code",
   "execution_count": 25,
   "metadata": {},
   "outputs": [
    {
     "data": {
      "text/plain": [
       "0"
      ]
     },
     "execution_count": 25,
     "metadata": {},
     "output_type": "execute_result"
    }
   ],
   "source": [
    "\n",
    "w3.eth.getBalance(\"0x907b31E07E8D9c5504Cc1bf28C27Ec28bF8BE111\")\n"
   ]
  },
  {
   "cell_type": "code",
   "execution_count": null,
   "metadata": {},
   "outputs": [],
   "source": [
    "create_tx(ETH,eth_acc,\"\", 1000)"
   ]
  }
 ],
 "metadata": {
  "interpreter": {
   "hash": "2d28290dbcbe942368bdcba3308f2959fb237d9ba857e164f96f19c6b6e29578"
  },
  "kernelspec": {
   "display_name": "Python 3.7.11 64-bit ('base': conda)",
   "language": "python",
   "name": "python3"
  },
  "language_info": {
   "codemirror_mode": {
    "name": "ipython",
    "version": 3
   },
   "file_extension": ".py",
   "mimetype": "text/x-python",
   "name": "python",
   "nbconvert_exporter": "python",
   "pygments_lexer": "ipython3",
   "version": "3.7.11"
  },
  "orig_nbformat": 4
 },
 "nbformat": 4,
 "nbformat_minor": 2
}
